{
  "nbformat": 4,
  "nbformat_minor": 0,
  "metadata": {
    "colab": {
      "provenance": []
    },
    "kernelspec": {
      "name": "python3",
      "display_name": "Python 3"
    },
    "language_info": {
      "name": "python"
    }
  },
  "cells": [
    {
      "cell_type": "code",
      "source": [
        "#Part 1\n",
        "#C is the matrix to whose diagonals we are adding a\n",
        "import numpy as np\n",
        "def add_to_diagonal(C, a):\n",
        "    C = np.array(C, dtype=float)\n",
        "    n = C.shape[0]\n",
        "    return C + a * np.eye(n)\n",
        "\n",
        "#Example run where we are adding 5 to the diagonal elements\n",
        "C = np.array([[1,2],[3,4]])\n",
        "print(add_to_diagonal(C, 5))"
      ],
      "metadata": {
        "colab": {
          "base_uri": "https://localhost:8080/"
        },
        "id": "hKchA3cNpQMY",
        "outputId": "8343b93d-a81d-49a6-daf2-7e1c0e1e7ee2"
      },
      "execution_count": 4,
      "outputs": [
        {
          "output_type": "stream",
          "name": "stdout",
          "text": [
            "[[6. 2.]\n",
            " [3. 9.]]\n"
          ]
        }
      ]
    },
    {
      "cell_type": "code",
      "source": [
        "#Part 2\n",
        "#A is the input matrix whose max off diagonal value we are looking for\n",
        "\n",
        "def largest_offdiag(A):\n",
        "    A = np.asarray(A)\n",
        "    n = A.shape[0]\n",
        "    #matrix with 0 diagonal\n",
        "    mask = ~np.eye(n, dtype=bool)\n",
        "\n",
        "    val = A[mask].max()\n",
        "    return val\n",
        "\n",
        "A = np.array([[1,2,3],[4,5,6],[7,8,9]])\n",
        "print(largest_offdiag(A))"
      ],
      "metadata": {
        "colab": {
          "base_uri": "https://localhost:8080/"
        },
        "id": "XGnWRt2WquhV",
        "outputId": "38fbb9b8-a365-4518-cd45-f886e1464de1"
      },
      "execution_count": 7,
      "outputs": [
        {
          "output_type": "stream",
          "name": "stdout",
          "text": [
            "8\n"
          ]
        }
      ]
    },
    {
      "cell_type": "code",
      "execution_count": 2,
      "metadata": {
        "colab": {
          "base_uri": "https://localhost:8080/"
        },
        "id": "wuTNiCtXoOFd",
        "outputId": "c945bbd4-7d7e-40f5-beb7-87e83e25e273"
      },
      "outputs": [
        {
          "output_type": "stream",
          "name": "stdout",
          "text": [
            "0.8221\n"
          ]
        }
      ],
      "source": [
        "import numpy as np\n",
        "#0.8221 is close to the theoretical value given by the formula\n",
        "# top seed θ=2.5, weakest θ=1.0\n",
        "theta = np.linspace(2.5, 1.0, 16)\n",
        "sigma = np.full(16, 0.5)\n",
        "\n",
        "def prob_top_seed_advances_fast(theta, sigma, n_sims=10_000, seed=0):\n",
        "    rng = np.random.default_rng(seed)\n",
        "    theta = np.asarray(theta); sigma = np.asarray(sigma)\n",
        "    top = int(np.argmax(theta))\n",
        "    others = np.delete(np.arange(16), top)\n",
        "\n",
        "    opp_idx = rng.choice(others, size=n_sims, replace=True)\n",
        "\n",
        "    s_top = rng.normal(theta[top], sigma[top], size=n_sims)\n",
        "    s_opp = rng.normal(theta[opp_idx], sigma[opp_idx])\n",
        "    return float(np.mean(s_top > s_opp))\n",
        "\n",
        "theta = np.linspace(2.5, 1.0, 16)\n",
        "sigma = np.full(16, 0.5)\n",
        "\n",
        "print(prob_top_seed_advances_fast(theta, sigma, 10_000, seed=42))"
      ]
    }
  ]
}